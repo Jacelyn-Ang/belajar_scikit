{
 "cells": [
  {
   "cell_type": "markdown",
   "id": "e0a36a89-c69a-4ed3-9f91-f5b98034aa5e",
   "metadata": {},
   "source": [
    "# 01 Pengenalan Machine Learning"
   ]
  },
  {
   "cell_type": "markdown",
   "id": "dc20142b-1449-47ca-a7f7-abd9bc9ebee9",
   "metadata": {},
   "source": [
    "data.</li> print(markdown)\r\n"
   ]
  }
 ],
 "metadata": {
  "kernelspec": {
   "display_name": "Python 3 (ipykernel)",
   "language": "python",
   "name": "python3"
  },
  "language_info": {
   "codemirror_mode": {
    "name": "ipython",
    "version": 3
   },
   "file_extension": ".py",
   "mimetype": "text/x-python",
   "name": "python",
   "nbconvert_exporter": "python",
   "pygments_lexer": "ipython3",
   "version": "3.11.7"
  }
 },
 "nbformat": 4,
 "nbformat_minor": 5
}
