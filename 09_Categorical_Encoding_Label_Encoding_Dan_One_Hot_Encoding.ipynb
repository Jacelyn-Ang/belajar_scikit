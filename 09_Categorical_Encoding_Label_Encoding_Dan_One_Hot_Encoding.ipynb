{
 "cells": [
  {
   "cell_type": "markdown",
   "id": "37d9f7db-e7d1-48f1-8c3c-e0da336961f5",
   "metadata": {},
   "source": [
    "# 09 Mengenal Categorical Encoding: Label Encoding & One Hot Encoding\r\n",
    "\r\n",
    "## **Apa itu Categorical Encoding?**\r\n",
    "Categorical Encoding adalah proses mengubah nilai kategorikal (teks/kategori) menjadi nilai numerik agar dapat digunakan oleh algoritma machine learning.\r\n",
    "\r\n",
    "Terdapat berbagai jenis teknik categorical encoding. Dua yang paling umum digunakan adalah\n",
    "\r\n",
    "- **Label Eodi**\r\n",
    "- **One Hot oding**  \r\n",
    "  Referensi: [One-hot encoding - Wikipedia](https://en.wikipedia.org/wiki/ot)\r\n",
    "\r\n",
    "---\r\n",
    "\r\n",
    "## **Label Encoding**\r\n",
    "Label Encoding adalah metode encoding di mana setiap kategori dalam sebuah fitur dikonversi menjadi angka integer berdasarkan urutan tertentu (biasanya ururna` memiliki nilai:\r\n",
    "ai integer"
   ]
  },
  {
   "cell_type": "code",
   "execution_count": 1,
   "id": "a67d080d-e1c6-4e01-a5e7-8cc1e023606a",
   "metadata": {},
   "outputs": [
    {
     "data": {
      "text/html": [
       "<div>\n",
       "<style scoped>\n",
       "    .dataframe tbody tr th:only-of-type {\n",
       "        vertical-align: middle;\n",
       "    }\n",
       "\n",
       "    .dataframe tbody tr th {\n",
       "        vertical-align: top;\n",
       "    }\n",
       "\n",
       "    .dataframe thead th {\n",
       "        text-align: right;\n",
       "    }\n",
       "</style>\n",
       "<table border=\"1\" class=\"dataframe\">\n",
       "  <thead>\n",
       "    <tr style=\"text-align: right;\">\n",
       "      <th></th>\n",
       "      <th>country</th>\n",
       "      <th>age</th>\n",
       "      <th>salary</th>\n",
       "    </tr>\n",
       "  </thead>\n",
       "  <tbody>\n",
       "    <tr>\n",
       "      <th>0</th>\n",
       "      <td>India</td>\n",
       "      <td>44</td>\n",
       "      <td>72000</td>\n",
       "    </tr>\n",
       "    <tr>\n",
       "      <th>1</th>\n",
       "      <td>US</td>\n",
       "      <td>34</td>\n",
       "      <td>65000</td>\n",
       "    </tr>\n",
       "    <tr>\n",
       "      <th>2</th>\n",
       "      <td>Japan</td>\n",
       "      <td>46</td>\n",
       "      <td>98000</td>\n",
       "    </tr>\n",
       "    <tr>\n",
       "      <th>3</th>\n",
       "      <td>US</td>\n",
       "      <td>35</td>\n",
       "      <td>45000</td>\n",
       "    </tr>\n",
       "    <tr>\n",
       "      <th>4</th>\n",
       "      <td>Japan</td>\n",
       "      <td>23</td>\n",
       "      <td>34000</td>\n",
       "    </tr>\n",
       "  </tbody>\n",
       "</table>\n",
       "</div>"
      ],
      "text/plain": [
       "  country  age  salary\n",
       "0   India   44   72000\n",
       "1      US   34   65000\n",
       "2   Japan   46   98000\n",
       "3      US   35   45000\n",
       "4   Japan   23   34000"
      ]
     },
     "execution_count": 1,
     "metadata": {},
     "output_type": "execute_result"
    }
   ],
   "source": [
    "import pandas as pd\n",
    "\n",
    "df = pd.DataFrame({\n",
    "    'country': ['India', 'US', 'Japan', 'US', 'Japan'],\n",
    "    'age': [44, 34, 46, 35, 23],\n",
    "    'salary': [72000, 65000, 98000, 45000, 34000]\n",
    "})\n",
    "\n",
    "df"
   ]
  },
  {
   "cell_type": "code",
   "execution_count": 2,
   "id": "4c035046-2965-4676-a79f-f1c955efbdc4",
   "metadata": {},
   "outputs": [
    {
     "data": {
      "text/html": [
       "<div>\n",
       "<style scoped>\n",
       "    .dataframe tbody tr th:only-of-type {\n",
       "        vertical-align: middle;\n",
       "    }\n",
       "\n",
       "    .dataframe tbody tr th {\n",
       "        vertical-align: top;\n",
       "    }\n",
       "\n",
       "    .dataframe thead th {\n",
       "        text-align: right;\n",
       "    }\n",
       "</style>\n",
       "<table border=\"1\" class=\"dataframe\">\n",
       "  <thead>\n",
       "    <tr style=\"text-align: right;\">\n",
       "      <th></th>\n",
       "      <th>country</th>\n",
       "      <th>age</th>\n",
       "      <th>salary</th>\n",
       "    </tr>\n",
       "  </thead>\n",
       "  <tbody>\n",
       "    <tr>\n",
       "      <th>0</th>\n",
       "      <td>0</td>\n",
       "      <td>44</td>\n",
       "      <td>72000</td>\n",
       "    </tr>\n",
       "    <tr>\n",
       "      <th>1</th>\n",
       "      <td>2</td>\n",
       "      <td>34</td>\n",
       "      <td>65000</td>\n",
       "    </tr>\n",
       "    <tr>\n",
       "      <th>2</th>\n",
       "      <td>1</td>\n",
       "      <td>46</td>\n",
       "      <td>98000</td>\n",
       "    </tr>\n",
       "    <tr>\n",
       "      <th>3</th>\n",
       "      <td>2</td>\n",
       "      <td>35</td>\n",
       "      <td>45000</td>\n",
       "    </tr>\n",
       "    <tr>\n",
       "      <th>4</th>\n",
       "      <td>1</td>\n",
       "      <td>23</td>\n",
       "      <td>34000</td>\n",
       "    </tr>\n",
       "  </tbody>\n",
       "</table>\n",
       "</div>"
      ],
      "text/plain": [
       "   country  age  salary\n",
       "0        0   44   72000\n",
       "1        2   34   65000\n",
       "2        1   46   98000\n",
       "3        2   35   45000\n",
       "4        1   23   34000"
      ]
     },
     "execution_count": 2,
     "metadata": {},
     "output_type": "execute_result"
    }
   ],
   "source": [
    "from sklearn.preprocessing import LabelEncoder\n",
    "\n",
    "label_encoder = LabelEncoder()\n",
    "df['country'] = label_encoder.fit_transform(df['country'])\n",
    "df"
   ]
  },
  {
   "cell_type": "code",
   "execution_count": 3,
   "id": "40271730-f2e5-4c49-9d3a-d104301705f2",
   "metadata": {},
   "outputs": [
    {
     "data": {
      "text/plain": [
       "array(['India', 'Japan', 'US'], dtype=object)"
      ]
     },
     "execution_count": 3,
     "metadata": {},
     "output_type": "execute_result"
    }
   ],
   "source": [
    "label_encoder.classes_"
   ]
  },
  {
   "cell_type": "code",
   "execution_count": 4,
   "id": "f8f5d2b6-58a5-4137-883b-2e75c25febae",
   "metadata": {},
   "outputs": [
    {
     "data": {
      "text/html": [
       "<div>\n",
       "<style scoped>\n",
       "    .dataframe tbody tr th:only-of-type {\n",
       "        vertical-align: middle;\n",
       "    }\n",
       "\n",
       "    .dataframe tbody tr th {\n",
       "        vertical-align: top;\n",
       "    }\n",
       "\n",
       "    .dataframe thead th {\n",
       "        text-align: right;\n",
       "    }\n",
       "</style>\n",
       "<table border=\"1\" class=\"dataframe\">\n",
       "  <thead>\n",
       "    <tr style=\"text-align: right;\">\n",
       "      <th></th>\n",
       "      <th>country</th>\n",
       "      <th>age</th>\n",
       "      <th>salary</th>\n",
       "    </tr>\n",
       "  </thead>\n",
       "  <tbody>\n",
       "    <tr>\n",
       "      <th>0</th>\n",
       "      <td>India</td>\n",
       "      <td>44</td>\n",
       "      <td>72000</td>\n",
       "    </tr>\n",
       "    <tr>\n",
       "      <th>1</th>\n",
       "      <td>US</td>\n",
       "      <td>34</td>\n",
       "      <td>65000</td>\n",
       "    </tr>\n",
       "    <tr>\n",
       "      <th>2</th>\n",
       "      <td>Japan</td>\n",
       "      <td>46</td>\n",
       "      <td>98000</td>\n",
       "    </tr>\n",
       "    <tr>\n",
       "      <th>3</th>\n",
       "      <td>US</td>\n",
       "      <td>35</td>\n",
       "      <td>45000</td>\n",
       "    </tr>\n",
       "    <tr>\n",
       "      <th>4</th>\n",
       "      <td>Japan</td>\n",
       "      <td>23</td>\n",
       "      <td>34000</td>\n",
       "    </tr>\n",
       "  </tbody>\n",
       "</table>\n",
       "</div>"
      ],
      "text/plain": [
       "  country  age  salary\n",
       "0   India   44   72000\n",
       "1      US   34   65000\n",
       "2   Japan   46   98000\n",
       "3      US   35   45000\n",
       "4   Japan   23   34000"
      ]
     },
     "execution_count": 4,
     "metadata": {},
     "output_type": "execute_result"
    }
   ],
   "source": [
    "df = pd.DataFrame({\n",
    "    'country': ['India', 'US', 'Japan', 'US', 'Japan'],\n",
    "    'age': [44, 34, 46, 35, 23],\n",
    "    'salary': [72000, 65000, 98000, 45000, 34000]\n",
    "})\n",
    "\n",
    "df"
   ]
  },
  {
   "cell_type": "code",
   "execution_count": 5,
   "id": "d50589d0-b328-4628-a10a-0c51cc681d79",
   "metadata": {},
   "outputs": [
    {
     "data": {
      "text/plain": [
       "array([['India'],\n",
       "       ['US'],\n",
       "       ['Japan'],\n",
       "       ['US'],\n",
       "       ['Japan']], dtype=object)"
      ]
     },
     "execution_count": 5,
     "metadata": {},
     "output_type": "execute_result"
    }
   ],
   "source": [
    "X = df['country'].values.reshape(-1,1)\n",
    "X"
   ]
  },
  {
   "cell_type": "code",
   "execution_count": 6,
   "id": "89997630-9ea7-4db9-842f-2d0c23ce44fc",
   "metadata": {},
   "outputs": [
    {
     "data": {
      "text/plain": [
       "array([[1., 0., 0.],\n",
       "       [0., 0., 1.],\n",
       "       [0., 1., 0.],\n",
       "       [0., 0., 1.],\n",
       "       [0., 1., 0.]])"
      ]
     },
     "execution_count": 6,
     "metadata": {},
     "output_type": "execute_result"
    }
   ],
   "source": [
    "from sklearn.preprocessing import OneHotEncoder\n",
    "\n",
    "onehot_encoder = OneHotEncoder()\n",
    "X = onehot_encoder.fit_transform(X).toarray()\n",
    "X"
   ]
  },
  {
   "cell_type": "code",
   "execution_count": 7,
   "id": "b503042d-1095-4cb4-a655-6877cef4ca05",
   "metadata": {},
   "outputs": [
    {
     "data": {
      "text/plain": [
       "[array(['India', 'Japan', 'US'], dtype=object)]"
      ]
     },
     "execution_count": 7,
     "metadata": {},
     "output_type": "execute_result"
    }
   ],
   "source": [
    "onehot_encoder.categories_"
   ]
  },
  {
   "cell_type": "code",
   "execution_count": 8,
   "id": "06b3b2e6-83e6-4d2b-8882-29df746fbf74",
   "metadata": {},
   "outputs": [
    {
     "ename": "NameError",
     "evalue": "name 'df_onehot' is not defined",
     "output_type": "error",
     "traceback": [
      "\u001b[1;31m---------------------------------------------------------------------------\u001b[0m",
      "\u001b[1;31mNameError\u001b[0m                                 Traceback (most recent call last)",
      "Cell \u001b[1;32mIn[8], line 1\u001b[0m\n\u001b[1;32m----> 1\u001b[0m df \u001b[38;5;241m=\u001b[39m pd\u001b[38;5;241m.\u001b[39mconcat([df_onehot, df], axis\u001b[38;5;241m=\u001b[39m\u001b[38;5;241m1\u001b[39m)\n\u001b[0;32m      2\u001b[0m df\n",
      "\u001b[1;31mNameError\u001b[0m: name 'df_onehot' is not defined"
     ]
    }
   ],
   "source": [
    "df = pd.concat([df_onehot, df], axis=1)\n",
    "df"
   ]
  },
  {
   "cell_type": "code",
   "execution_count": null,
   "id": "ce3a3b7f-fa8f-403c-8cf1-81c7aeb5c41e",
   "metadata": {},
   "outputs": [],
   "source": [
    "df = df.drop(['country'], axis=1)\n",
    "df"
   ]
  },
  {
   "cell_type": "markdown",
   "id": "ebe73c5e-5d38-4e5e-8aab-671363f0ee1d",
   "metadata": {},
   "source": [
    "**Label Encoding vs One Hot Encoding**\n",
    "\n",
    "Menerapkan One Hot Encoding bila:\n",
    "\n",
    "- Nilai categorical adalah nominal\n",
    "- Jumlah kategori yang ada tidak terlalu banyak\n",
    "\n",
    "Menerapkan Label Encoding bila:\n",
    "\n",
    "- Nilai categorical adalah ordinal\n",
    "- Jumlah kategori yang ada relatif banyak"
   ]
  },
  {
   "cell_type": "code",
   "execution_count": null,
   "id": "9b91298b-934d-4615-8391-5b79e51927d8",
   "metadata": {},
   "outputs": [],
   "source": []
  }
 ],
 "metadata": {
  "kernelspec": {
   "display_name": "Python 3 (ipykernel)",
   "language": "python",
   "name": "python3"
  },
  "language_info": {
   "codemirror_mode": {
    "name": "ipython",
    "version": 3
   },
   "file_extension": ".py",
   "mimetype": "text/x-python",
   "name": "python",
   "nbconvert_exporter": "python",
   "pygments_lexer": "ipython3",
   "version": "3.11.7"
  }
 },
 "nbformat": 4,
 "nbformat_minor": 5
}
