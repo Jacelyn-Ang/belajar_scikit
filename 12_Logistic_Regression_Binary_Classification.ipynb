{
 "cells": [
  {
   "cell_type": "markdown",
   "id": "347b1d5f-590c-4a6c-b390-4e2afee3cf91",
   "metadata": {},
   "source": [
    "#12 Logistic Regression pada Binary Classification Task\n",
    "\n",
    "Referensi: https://en.wikipedia.org/wiki/Logistic_regression"
   ]
  },
  {
   "cell_type": "code",
   "execution_count": 1,
   "id": "19330a8d-ed05-4a25-8492-b7d0bcd3091b",
   "metadata": {},
   "outputs": [
    {
     "data": {
      "text/html": [
       "<div>\n",
       "<style scoped>\n",
       "    .dataframe tbody tr th:only-of-type {\n",
       "        vertical-align: middle;\n",
       "    }\n",
       "\n",
       "    .dataframe tbody tr th {\n",
       "        vertical-align: top;\n",
       "    }\n",
       "\n",
       "    .dataframe thead th {\n",
       "        text-align: right;\n",
       "    }\n",
       "</style>\n",
       "<table border=\"1\" class=\"dataframe\">\n",
       "  <thead>\n",
       "    <tr style=\"text-align: right;\">\n",
       "      <th></th>\n",
       "      <th>label</th>\n",
       "      <th>sms</th>\n",
       "    </tr>\n",
       "  </thead>\n",
       "  <tbody>\n",
       "    <tr>\n",
       "      <th>0</th>\n",
       "      <td>ham</td>\n",
       "      <td>Go until jurong point, crazy.. Available only ...</td>\n",
       "    </tr>\n",
       "    <tr>\n",
       "      <th>1</th>\n",
       "      <td>ham</td>\n",
       "      <td>Ok lar... Joking wif u oni...</td>\n",
       "    </tr>\n",
       "    <tr>\n",
       "      <th>2</th>\n",
       "      <td>spam</td>\n",
       "      <td>Free entry in 2 a wkly comp to win FA Cup fina...</td>\n",
       "    </tr>\n",
       "    <tr>\n",
       "      <th>3</th>\n",
       "      <td>ham</td>\n",
       "      <td>U dun say so early hor... U c already then say...</td>\n",
       "    </tr>\n",
       "    <tr>\n",
       "      <th>4</th>\n",
       "      <td>ham</td>\n",
       "      <td>Nah I don't think he goes to usf, he lives aro...</td>\n",
       "    </tr>\n",
       "  </tbody>\n",
       "</table>\n",
       "</div>"
      ],
      "text/plain": [
       "  label                                                sms\n",
       "0   ham  Go until jurong point, crazy.. Available only ...\n",
       "1   ham                      Ok lar... Joking wif u oni...\n",
       "2  spam  Free entry in 2 a wkly comp to win FA Cup fina...\n",
       "3   ham  U dun say so early hor... U c already then say...\n",
       "4   ham  Nah I don't think he goes to usf, he lives aro..."
      ]
     },
     "execution_count": 1,
     "metadata": {},
     "output_type": "execute_result"
    }
   ],
   "source": [
    "import pandas as pd\n",
    "\n",
    "# Membaca file teks tab-separated (TSV)\n",
    "df = pd.read_csv('./dataset/dataset/SMSSpamCollection',\n",
    "                 sep='\\t',           # File dipisahkan tab, bukan koma\n",
    "                 header=None,        # File tidak memiliki header\n",
    "                 names=['label', 'sms'])  # Menetapkan nama kolom secara manual\n",
    "\n",
    "# Tampilkan 5 baris pertama\n",
    "df.head()\n"
   ]
  },
  {
   "cell_type": "code",
   "execution_count": 2,
   "id": "03a8accb-9ffc-4ca6-8524-915d22b940e8",
   "metadata": {},
   "outputs": [
    {
     "data": {
      "text/plain": [
       "label\n",
       "ham     4\n",
       "spam    2\n",
       "Name: count, dtype: int64"
      ]
     },
     "execution_count": 2,
     "metadata": {},
     "output_type": "execute_result"
    }
   ],
   "source": [
    "# Menggunakan metode 'value_counts()' pada kolom 'label' dari DataFrame 'df'\n",
    "# Metode ini menghitung jumlah kemunculan setiap nilai unik dalam kolom 'label'\n",
    "df['label'].value_counts()"
   ]
  },
  {
   "cell_type": "markdown",
   "id": "4996c196-433b-424d-b024-7760094322d4",
   "metadata": {},
   "source": [
    "# Training & Testing Dataset"
   ]
  },
  {
   "cell_type": "code",
   "execution_count": 3,
   "id": "26584774-d27f-4f63-a4c7-96ed8726408a",
   "metadata": {},
   "outputs": [
    {
     "data": {
      "text/plain": [
       "array(['ham', 'spam'], dtype='<U4')"
      ]
     },
     "execution_count": 3,
     "metadata": {},
     "output_type": "execute_result"
    }
   ],
   "source": [
    "# Mengimpor LabelBinarizer dari modul sklearn.preprocessing\n",
    "from sklearn.preprocessing import LabelBinarizer\n",
    "\n",
    "# Mengambil nilai-nilai dari kolom 'sms' dan 'label' sebagai fitur (X) dan target (y) dari DataFrame 'df'\n",
    "X = df['sms'].values\n",
    "y = df['label'].values\n",
    "\n",
    "# Membuat objek LabelBinarizer untuk mengkonversi nilai label menjadi bentuk biner\n",
    "lb = LabelBinarizer()\n",
    "# Mengubah nilai label menjadi bentuk biner dan meratakan array hasilnya\n",
    "y = lb.fit_transform(y).ravel()\n",
    "# Menampilkan nilai-nilai kelas yang digunakan oleh LabelBinarizer\n",
    "lb.classes_"
   ]
  },
  {
   "cell_type": "code",
   "execution_count": 4,
   "id": "5378a8d3-d11c-471d-9d81-0bdc9753b3e4",
   "metadata": {},
   "outputs": [
    {
     "name": "stdout",
     "output_type": "stream",
     "text": [
      "['Ok lar... Joking wif u oni...'\n",
      " 'U dun say so early hor... U c already then say...'\n",
      " 'Go until jurong point, crazy.. Available only in bugis n great world la e buffet... Cine there got amore wat...'\n",
      " \"Nah I don't think he goes to usf, he lives around here though\"] \n",
      "\n",
      "[0 0 0 0]\n"
     ]
    }
   ],
   "source": [
    "# Mengimpor train_test_split dari modul sklearn.model_selection\n",
    "from sklearn.model_selection import train_test_split\n",
    "\n",
    "\n",
    "# Membagi dataset menjadi data latih (X_train dan y_train) dan data uji (X_test dan y_test)\n",
    "# Dengan ukuran data uji sebesar 25% dari seluruh dataset dan nilai seed acak (random_state) adalah 0\n",
    "X_train, X_test, y_train, y_test = train_test_split(X,\n",
    "                                                    y,\n",
    "                                                    test_size=0.25,\n",
    "                                                    random_state=0)\n",
    "\n",
    "# Menampilkan data latih dan labelnya\n",
    "print(X_train, '\\n')\n",
    "print(y_train)"
   ]
  },
  {
   "cell_type": "code",
   "execution_count": 5,
   "id": "246708df-f91a-486b-82c5-e1b5e392bfe4",
   "metadata": {},
   "outputs": [
    {
     "name": "stdout",
     "output_type": "stream",
     "text": [
      "  (0, 20)\t0.4472135954999579\n",
      "  (0, 26)\t0.4472135954999579\n",
      "  (0, 13)\t0.4472135954999579\n",
      "  (0, 16)\t0.4472135954999579\n",
      "  (0, 19)\t0.4472135954999579\n",
      "  (1, 12)\t0.3779644730092272\n",
      "  (1, 8)\t0.3779644730092272\n",
      "  (1, 22)\t0.7559289460184544\n",
      "  (1, 7)\t0.3779644730092272\n",
      "  (2, 25)\t0.2773500981126145\n",
      "  (2, 0)\t0.2773500981126145\n",
      "  (2, 10)\t0.2773500981126145\n",
      "  (2, 4)\t0.2773500981126145\n",
      "  (2, 2)\t0.2773500981126145\n",
      "  (2, 15)\t0.2773500981126145\n",
      "  (2, 27)\t0.2773500981126145\n",
      "  (2, 11)\t0.2773500981126145\n",
      "  (2, 3)\t0.2773500981126145\n",
      "  (2, 1)\t0.2773500981126145\n",
      "  (2, 5)\t0.2773500981126145\n",
      "  (2, 21)\t0.2773500981126145\n",
      "  (2, 14)\t0.2773500981126145\n",
      "  (3, 17)\t0.408248290463863\n",
      "  (3, 24)\t0.408248290463863\n",
      "  (3, 9)\t0.408248290463863\n",
      "  (3, 23)\t0.408248290463863\n",
      "  (3, 6)\t0.408248290463863\n",
      "  (3, 18)\t0.408248290463863\n"
     ]
    }
   ],
   "source": [
    "# Mengimpor TfidfVectorizer dari modul sklearn.feature_extraction.text\n",
    "from sklearn.feature_extraction.text import TfidfVectorizer\n",
    "\n",
    "# Membuat objek TfidfVectorizer dengan menghilangkan kata-kata bawaan bahasa Inggris ('stop words')\n",
    "vectorizer = TfidfVectorizer(stop_words='english')\n",
    "\n",
    "# Mengubah teks menjadi representasi TF-IDF (Term Frequency-Inverse Document Frequency)\n",
    "# untuk data latih dan data uji menggunakan objek vectorizer yang sudah didefinisikan sebelumnya\n",
    "X_train_tfidf = vectorizer.fit_transform(X_train)\n",
    "X_test_tfidf = vectorizer.transform(X_test)\n",
    "\n",
    "# Menampilkan representasi TF-IDF dari data latih\n",
    "print(X_train_tfidf)"
   ]
  },
  {
   "cell_type": "code",
   "execution_count": 6,
   "id": "acad09e2-f9f4-4fb8-aabc-a32fc6f997d2",
   "metadata": {},
   "outputs": [
    {
     "name": "stdout",
     "output_type": "stream",
     "text": [
      "PRED: HAM - SMS: Free entry in 2 a wkly comp to win FA Cup final tkts 21st May 2005. Text FA to 87121 to receive entry question(std txt rate)T&C's apply 08452810075over18's\n",
      "\n",
      "PRED: HAM - SMS: U dun say so early hor... U c already then say...\n",
      "\n"
     ]
    }
   ],
   "source": [
    "import pandas as pd\n",
    "from sklearn.model_selection import train_test_split\n",
    "from sklearn.feature_extraction.text import TfidfVectorizer\n",
    "from sklearn.linear_model import LogisticRegression\n",
    "import numpy as np\n",
    "\n",
    "# 1. Load dataset\n",
    "df = pd.read_csv('./dataset/dataset/SMSSpamCollection', sep='\\t', header=None, names=['label', 'sms'])\n",
    "\n",
    "# 2. Ubah label 'ham' dan 'spam' menjadi angka\n",
    "df['label_num'] = df['label'].map({'ham': 0, 'spam': 1})\n",
    "\n",
    "# 3. Bagi data menjadi train dan test dengan stratifikasi\n",
    "X_train, X_test, y_train, y_test = train_test_split(\n",
    "    df['sms'], df['label_num'], test_size=0.2, random_state=42, stratify=df['label_num']\n",
    ")\n",
    "\n",
    "# 4. Ubah teks menjadi representasi numerik (TF-IDF)\n",
    "vectorizer = TfidfVectorizer()\n",
    "X_train_tfidf = vectorizer.fit_transform(X_train)\n",
    "X_test_tfidf = vectorizer.transform(X_test)\n",
    "\n",
    "# 5. Melatih model Logistic Regression\n",
    "model = LogisticRegression()\n",
    "model.fit(X_train_tfidf, y_train)\n",
    "\n",
    "# 6. Prediksi pada data test\n",
    "y_pred = model.predict(X_test_tfidf)\n",
    "\n",
    "# 7. Menampilkan 5 hasil prediksi pertama\n",
    "for pred, sms in zip(y_pred[:5], X_test[:5]):\n",
    "    label = 'SPAM' if pred == 1 else 'HAM'\n",
    "    print(f'PRED: {label} - SMS: {sms}\\n')"
   ]
  },
  {
   "cell_type": "code",
   "execution_count": 7,
   "id": "e48cdc21-e548-4320-9658-7a4175ae49f7",
   "metadata": {},
   "outputs": [
    {
     "name": "stdout",
     "output_type": "stream",
     "text": [
      "TN: 1\n",
      "FP: 0\n",
      "FN: 1\n",
      "TP: 0\n"
     ]
    }
   ],
   "source": [
    "from sklearn.metrics import confusion_matrix\n",
    "\n",
    "# Misalnya:\n",
    "# y_test dan y_pred sudah didefinisikan sebelumnya\n",
    "matrix = confusion_matrix(y_test, y_pred)\n",
    "\n",
    "tn, fp, fn, tp = matrix.ravel()\n",
    "\n",
    "print(f'TN: {tn}')\n",
    "print(f'FP: {fp}')\n",
    "print(f'FN: {fn}')\n",
    "print(f'TP: {tp}')\n"
   ]
  },
  {
   "cell_type": "code",
   "execution_count": 8,
   "id": "e20da873-7958-4b1c-9c88-7201ac8d9880",
   "metadata": {},
   "outputs": [
    {
     "data": {
      "text/plain": [
       "0.5"
      ]
     },
     "execution_count": 8,
     "metadata": {},
     "output_type": "execute_result"
    }
   ],
   "source": [
    "# Mengimpor accuracy_score dari modul sklearn.metrics\n",
    "from sklearn.metrics import accuracy_score\n",
    "\n",
    "# Menghitung akurasi dari model menggunakan nilai sebenarnya (y_test) dan nilai yang diprediksi (y_pred)\n",
    "accuracy_score(y_test, y_pred)"
   ]
  },
  {
   "cell_type": "code",
   "execution_count": 9,
   "id": "ed0652e7-6a5f-4689-b43c-f22d3da5bd33",
   "metadata": {},
   "outputs": [
    {
     "name": "stdout",
     "output_type": "stream",
     "text": [
      "Precision: 0.0\n"
     ]
    }
   ],
   "source": [
    "from sklearn.metrics import precision_score\n",
    "\n",
    "precision = precision_score(y_test, y_pred, zero_division=0)\n",
    "print(f'Precision: {precision}')\n"
   ]
  },
  {
   "cell_type": "code",
   "execution_count": 10,
   "id": "5602eb19-fe5d-4542-88db-a6a72cf0c38a",
   "metadata": {},
   "outputs": [
    {
     "data": {
      "text/plain": [
       "0.0"
      ]
     },
     "execution_count": 10,
     "metadata": {},
     "output_type": "execute_result"
    }
   ],
   "source": [
    "# Mengimpor recall_score dari modul sklearn.metrics\n",
    "from sklearn.metrics import recall_score\n",
    "\n",
    "# Menghitung recall dari model menggunakan nilai sebenarnya (y_test) dan nilai yang diprediksi (y_pred)\n",
    "recall_score(y_test, y_pred)"
   ]
  },
  {
   "cell_type": "code",
   "execution_count": 11,
   "id": "31baa9d1-c6e9-4991-94de-a43c62a7a160",
   "metadata": {},
   "outputs": [
    {
     "data": {
      "text/plain": [
       "0.0"
      ]
     },
     "execution_count": 11,
     "metadata": {},
     "output_type": "execute_result"
    }
   ],
   "source": [
    "from sklearn.metrics import f1_score\n",
    "\n",
    "f1_score(y_test, y_pred)"
   ]
  },
  {
   "cell_type": "code",
   "execution_count": 13,
   "id": "7d91205f-52bc-4860-8b50-cf4f9193290a",
   "metadata": {},
   "outputs": [
    {
     "data": {
      "image/png": "[encoded data removed]",
      "text/plain": [
       "<Figure size 640x480 with 1 Axes>"
      ]
     },
     "metadata": {},
     "output_type": "display_data"
    }
   ],
   "source": [
    "import matplotlib.pyplot as plt\n",
    "# Mengimpor roc_curve dan auc dari modul sklearn.metrics\n",
    "from sklearn.metrics import roc_curve, auc\n",
    "\n",
    "# Menggunakan model untuk mendapatkan estimasi probabilitas untuk setiap kelas pada data uji\n",
    "prob_estimates = model.predict_proba(X_test_tfidf)\n",
    "\n",
    "# Menghitung false positive rate (fpr), true positive rate (tpr), dan threshold ROC\n",
    "fpr, tpr, threshhold = roc_curve(y_test, prob_estimates[:, 1])\n",
    "\n",
    "# Menghitung Area Under the Curve (AUC) dari kurva ROC\n",
    "nilai_auc = auc(fpr, tpr)\n",
    "\n",
    "# Menghitung Area Under the Curve (AUC) dari kurva ROC\n",
    "plt.plot(fpr, tpr, 'b', label=f'AUC={nilai_auc}')\n",
    "plt.plot([0,1], [0,1], 'r--', label='Random CLassifier')\n",
    "\n",
    "# Menambahkan judul, label sumbu X, label sumbu Y, dan legenda\n",
    "plt.title('ROC: Receiver Operating Characteristic')\n",
    "plt.xlabel('Fallout or False Positive Rate')\n",
    "plt.ylabel('Recall or True Positive Rate')\n",
    "plt.legend()\n",
    "\n",
    "# Menampilkan plot\n",
    "plt.show()"
   ]
  }
 ],
 "metadata": {
  "kernelspec": {
   "display_name": "Python 3 (ipykernel)",
   "language": "python",
   "name": "python3"
  },
  "language_info": {
   "codemirror_mode": {
    "name": "ipython",
    "version": 3
   },
   "file_extension": ".py",
   "mimetype": "text/x-python",
   "name": "python",
   "nbconvert_exporter": "python",
   "pygments_lexer": "ipython3",
   "version": "3.11.7"
  }
 },
 "nbformat": 4,
 "nbformat_minor": 5
}
